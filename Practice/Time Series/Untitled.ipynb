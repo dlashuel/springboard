{
 "cells": [
  {
   "cell_type": "code",
   "execution_count": 18,
   "metadata": {},
   "outputs": [],
   "source": [
    "import pandas as pd\n",
    "import numpy as np"
   ]
  },
  {
   "cell_type": "code",
   "execution_count": 21,
   "metadata": {},
   "outputs": [],
   "source": [
    "tax =pd.read_csv('API_FR.INR.RINR_DS2_en_csv_v2_3159035.csv')"
   ]
  },
  {
   "cell_type": "code",
   "execution_count": 22,
   "metadata": {
    "scrolled": true
   },
   "outputs": [
    {
     "data": {
      "text/html": [
       "<div>\n",
       "<style scoped>\n",
       "    .dataframe tbody tr th:only-of-type {\n",
       "        vertical-align: middle;\n",
       "    }\n",
       "\n",
       "    .dataframe tbody tr th {\n",
       "        vertical-align: top;\n",
       "    }\n",
       "\n",
       "    .dataframe thead th {\n",
       "        text-align: right;\n",
       "    }\n",
       "</style>\n",
       "<table border=\"1\" class=\"dataframe\">\n",
       "  <thead>\n",
       "    <tr style=\"text-align: right;\">\n",
       "      <th></th>\n",
       "      <th>Data Source</th>\n",
       "      <th>World Development Indicators</th>\n",
       "      <th>Unnamed: 2</th>\n",
       "      <th>Unnamed: 3</th>\n",
       "      <th>Unnamed: 4</th>\n",
       "      <th>Unnamed: 5</th>\n",
       "      <th>Unnamed: 6</th>\n",
       "      <th>Unnamed: 7</th>\n",
       "      <th>Unnamed: 8</th>\n",
       "      <th>Unnamed: 9</th>\n",
       "      <th>...</th>\n",
       "      <th>Unnamed: 53</th>\n",
       "      <th>Unnamed: 54</th>\n",
       "      <th>Unnamed: 55</th>\n",
       "      <th>Unnamed: 56</th>\n",
       "      <th>Unnamed: 57</th>\n",
       "      <th>Unnamed: 58</th>\n",
       "      <th>Unnamed: 59</th>\n",
       "      <th>Unnamed: 60</th>\n",
       "      <th>Unnamed: 61</th>\n",
       "      <th>Unnamed: 62</th>\n",
       "    </tr>\n",
       "  </thead>\n",
       "  <tbody>\n",
       "    <tr>\n",
       "      <th>0</th>\n",
       "      <td>United States</td>\n",
       "      <td>USA</td>\n",
       "      <td>3.107885</td>\n",
       "      <td>3.215346</td>\n",
       "      <td>3.374882</td>\n",
       "      <td>2.951669</td>\n",
       "      <td>2.565913</td>\n",
       "      <td>2.649421</td>\n",
       "      <td>2.406227</td>\n",
       "      <td>1.863911</td>\n",
       "      <td>...</td>\n",
       "      <td>1.307083</td>\n",
       "      <td>1.469299</td>\n",
       "      <td>1.374742</td>\n",
       "      <td>2.285696</td>\n",
       "      <td>2.436851</td>\n",
       "      <td>2.175694</td>\n",
       "      <td>2.444494</td>\n",
       "      <td>3.43601</td>\n",
       "      <td>2.304958</td>\n",
       "      <td>NaN</td>\n",
       "    </tr>\n",
       "  </tbody>\n",
       "</table>\n",
       "<p>1 rows × 63 columns</p>\n",
       "</div>"
      ],
      "text/plain": [
       "     Data Source World Development Indicators  Unnamed: 2  Unnamed: 3  \\\n",
       "0  United States                          USA    3.107885    3.215346   \n",
       "\n",
       "   Unnamed: 4  Unnamed: 5  Unnamed: 6  Unnamed: 7  Unnamed: 8  Unnamed: 9  \\\n",
       "0    3.374882    2.951669    2.565913    2.649421    2.406227    1.863911   \n",
       "\n",
       "   ...  Unnamed: 53  Unnamed: 54  Unnamed: 55  Unnamed: 56  Unnamed: 57  \\\n",
       "0  ...     1.307083     1.469299     1.374742     2.285696     2.436851   \n",
       "\n",
       "   Unnamed: 58  Unnamed: 59  Unnamed: 60  Unnamed: 61  Unnamed: 62  \n",
       "0     2.175694     2.444494      3.43601     2.304958          NaN  \n",
       "\n",
       "[1 rows x 63 columns]"
      ]
     },
     "execution_count": 22,
     "metadata": {},
     "output_type": "execute_result"
    }
   ],
   "source": [
    "tax"
   ]
  },
  {
   "cell_type": "code",
   "execution_count": 50,
   "metadata": {
    "scrolled": true
   },
   "outputs": [
    {
     "data": {
      "text/plain": [
       "['United States',\n",
       " 'USA',\n",
       " 3.10788487484433,\n",
       " 3.21534597587191,\n",
       " 3.37488224240515,\n",
       " 2.95166899970868,\n",
       " 2.56591312626037,\n",
       " 2.64942062883462,\n",
       " 2.40622703183633,\n",
       " 1.86391124668396,\n",
       " 2.85177336421873,\n",
       " 2.18540000839062,\n",
       " 0.62260495720725,\n",
       " 0.88722916425152,\n",
       " 2.40973534145284,\n",
       " 1.65106445818912,\n",
       " -1.28141917096265,\n",
       " 1.26689165699568,\n",
       " 0.575068852913289,\n",
       " 1.88990329174528,\n",
       " 4.03454769286935,\n",
       " 5.7163904794562,\n",
       " 8.59461978793387,\n",
       " 8.17734743775717,\n",
       " 6.6181602274006,\n",
       " 8.14108811911498,\n",
       " 6.56332655995495,\n",
       " 6.19386027119665,\n",
       " 5.59223790069931]"
      ]
     },
     "execution_count": 50,
     "metadata": {},
     "output_type": "execute_result"
    }
   ],
   "source": [
    "list(tax.iloc[0,0:len(ye)+2].values)"
   ]
  },
  {
   "cell_type": "code",
   "execution_count": 94,
   "metadata": {},
   "outputs": [
    {
     "data": {
      "text/plain": [
       "array([3.10788487484433, 3.21534597587191, 3.37488224240515,\n",
       "       2.95166899970868, 2.56591312626037, 2.64942062883462,\n",
       "       2.40622703183633, 1.86391124668396, 2.85177336421873,\n",
       "       2.18540000839062, 0.62260495720725, 0.88722916425152,\n",
       "       2.40973534145284, 1.65106445818912, -1.28141917096265,\n",
       "       1.26689165699568, 0.575068852913289, 1.88990329174528,\n",
       "       4.03454769286935, 5.7163904794562, 8.59461978793387,\n",
       "       8.17734743775717, 6.6181602274006, 8.14108811911498,\n",
       "       6.56332655995495, 6.19386027119665, 5.59223790069931,\n",
       "       5.59038219332081, 6.69068693481143, 6.03974920024778,\n",
       "       4.91534648240575, 3.88423803806005, 3.54561722959168,\n",
       "       4.898309954362, 6.5939963828891, 6.32407370913164,\n",
       "       6.53661498804258, 7.1481919123237, 6.4571348015229,\n",
       "       6.84484418755139, 4.62675686396421, 3.04507118458628,\n",
       "       2.22410112310282, 1.60458893576253, 2.98135677415587,\n",
       "       4.78644765750077, 5.22340584151622, 3.08241133651995,\n",
       "       2.46882889478265, 2.06073671062756, 1.1373383192166,\n",
       "       1.30708311280131, 1.46929925051209, 1.37474217085635,\n",
       "       2.28569648741529, 2.43685070473409, 2.17569426533145,\n",
       "       2.44449371999786, 3.43601046885253, 2.30495808623329], dtype=object)"
      ]
     },
     "execution_count": 94,
     "metadata": {},
     "output_type": "execute_result"
    }
   ],
   "source": [
    "data_"
   ]
  },
  {
   "cell_type": "code",
   "execution_count": 97,
   "metadata": {},
   "outputs": [],
   "source": [
    "data_ = tax.iloc[0:len(ye)].values[0][2:27]\n",
    "index_ = [1996, 1997, 1998, 1999, 2000, 2001, 2002, 2003, 2004, 2005, 2006, 2007, 2008, 2009, 2010, 2011, 2012, 2013, 2014, 2015, 2016, 2017, 2018, 2019, 2020]"
   ]
  },
  {
   "cell_type": "code",
   "execution_count": 98,
   "metadata": {},
   "outputs": [
    {
     "data": {
      "text/plain": [
       "(25, 25)"
      ]
     },
     "execution_count": 98,
     "metadata": {},
     "output_type": "execute_result"
    }
   ],
   "source": [
    "len(data_), len(index_)"
   ]
  },
  {
   "cell_type": "code",
   "execution_count": 99,
   "metadata": {
    "scrolled": false
   },
   "outputs": [],
   "source": [
    "tax_ad = pd.DataFrame(data = data_, index= index_, columns=['USA'])"
   ]
  },
  {
   "cell_type": "code",
   "execution_count": 100,
   "metadata": {},
   "outputs": [
    {
     "data": {
      "text/html": [
       "<div>\n",
       "<style scoped>\n",
       "    .dataframe tbody tr th:only-of-type {\n",
       "        vertical-align: middle;\n",
       "    }\n",
       "\n",
       "    .dataframe tbody tr th {\n",
       "        vertical-align: top;\n",
       "    }\n",
       "\n",
       "    .dataframe thead th {\n",
       "        text-align: right;\n",
       "    }\n",
       "</style>\n",
       "<table border=\"1\" class=\"dataframe\">\n",
       "  <thead>\n",
       "    <tr style=\"text-align: right;\">\n",
       "      <th></th>\n",
       "      <th>USA</th>\n",
       "    </tr>\n",
       "  </thead>\n",
       "  <tbody>\n",
       "    <tr>\n",
       "      <th>1996</th>\n",
       "      <td>3.107885</td>\n",
       "    </tr>\n",
       "    <tr>\n",
       "      <th>1997</th>\n",
       "      <td>3.215346</td>\n",
       "    </tr>\n",
       "    <tr>\n",
       "      <th>1998</th>\n",
       "      <td>3.374882</td>\n",
       "    </tr>\n",
       "    <tr>\n",
       "      <th>1999</th>\n",
       "      <td>2.951669</td>\n",
       "    </tr>\n",
       "    <tr>\n",
       "      <th>2000</th>\n",
       "      <td>2.565913</td>\n",
       "    </tr>\n",
       "    <tr>\n",
       "      <th>2001</th>\n",
       "      <td>2.649421</td>\n",
       "    </tr>\n",
       "    <tr>\n",
       "      <th>2002</th>\n",
       "      <td>2.406227</td>\n",
       "    </tr>\n",
       "    <tr>\n",
       "      <th>2003</th>\n",
       "      <td>1.863911</td>\n",
       "    </tr>\n",
       "    <tr>\n",
       "      <th>2004</th>\n",
       "      <td>2.851773</td>\n",
       "    </tr>\n",
       "    <tr>\n",
       "      <th>2005</th>\n",
       "      <td>2.1854</td>\n",
       "    </tr>\n",
       "    <tr>\n",
       "      <th>2006</th>\n",
       "      <td>0.622605</td>\n",
       "    </tr>\n",
       "    <tr>\n",
       "      <th>2007</th>\n",
       "      <td>0.887229</td>\n",
       "    </tr>\n",
       "    <tr>\n",
       "      <th>2008</th>\n",
       "      <td>2.409735</td>\n",
       "    </tr>\n",
       "    <tr>\n",
       "      <th>2009</th>\n",
       "      <td>1.651064</td>\n",
       "    </tr>\n",
       "    <tr>\n",
       "      <th>2010</th>\n",
       "      <td>-1.281419</td>\n",
       "    </tr>\n",
       "    <tr>\n",
       "      <th>2011</th>\n",
       "      <td>1.266892</td>\n",
       "    </tr>\n",
       "    <tr>\n",
       "      <th>2012</th>\n",
       "      <td>0.575069</td>\n",
       "    </tr>\n",
       "    <tr>\n",
       "      <th>2013</th>\n",
       "      <td>1.889903</td>\n",
       "    </tr>\n",
       "    <tr>\n",
       "      <th>2014</th>\n",
       "      <td>4.034548</td>\n",
       "    </tr>\n",
       "    <tr>\n",
       "      <th>2015</th>\n",
       "      <td>5.71639</td>\n",
       "    </tr>\n",
       "    <tr>\n",
       "      <th>2016</th>\n",
       "      <td>8.59462</td>\n",
       "    </tr>\n",
       "    <tr>\n",
       "      <th>2017</th>\n",
       "      <td>8.177347</td>\n",
       "    </tr>\n",
       "    <tr>\n",
       "      <th>2018</th>\n",
       "      <td>6.61816</td>\n",
       "    </tr>\n",
       "    <tr>\n",
       "      <th>2019</th>\n",
       "      <td>8.141088</td>\n",
       "    </tr>\n",
       "    <tr>\n",
       "      <th>2020</th>\n",
       "      <td>6.563327</td>\n",
       "    </tr>\n",
       "  </tbody>\n",
       "</table>\n",
       "</div>"
      ],
      "text/plain": [
       "           USA\n",
       "1996  3.107885\n",
       "1997  3.215346\n",
       "1998  3.374882\n",
       "1999  2.951669\n",
       "2000  2.565913\n",
       "2001  2.649421\n",
       "2002  2.406227\n",
       "2003  1.863911\n",
       "2004  2.851773\n",
       "2005    2.1854\n",
       "2006  0.622605\n",
       "2007  0.887229\n",
       "2008  2.409735\n",
       "2009  1.651064\n",
       "2010 -1.281419\n",
       "2011  1.266892\n",
       "2012  0.575069\n",
       "2013  1.889903\n",
       "2014  4.034548\n",
       "2015   5.71639\n",
       "2016   8.59462\n",
       "2017  8.177347\n",
       "2018   6.61816\n",
       "2019  8.141088\n",
       "2020  6.563327"
      ]
     },
     "execution_count": 100,
     "metadata": {},
     "output_type": "execute_result"
    }
   ],
   "source": [
    "tax_ad"
   ]
  },
  {
   "cell_type": "code",
   "execution_count": 105,
   "metadata": {},
   "outputs": [],
   "source": [
    "k=tax_ad['USA'].diff()"
   ]
  },
  {
   "cell_type": "code",
   "execution_count": 106,
   "metadata": {},
   "outputs": [
    {
     "data": {
      "text/plain": [
       "1996         NaN\n",
       "1997    0.107461\n",
       "1998    0.159536\n",
       "1999   -0.423213\n",
       "2000   -0.385756\n",
       "2001    0.083508\n",
       "2002   -0.243194\n",
       "2003   -0.542316\n",
       "2004    0.987862\n",
       "2005   -0.666373\n",
       "2006   -1.562795\n",
       "2007    0.264624\n",
       "2008    1.522506\n",
       "2009   -0.758671\n",
       "2010   -2.932484\n",
       "2011    2.548311\n",
       "2012   -0.691823\n",
       "2013    1.314834\n",
       "2014    2.144644\n",
       "2015    1.681843\n",
       "2016    2.878229\n",
       "2017   -0.417272\n",
       "2018   -1.559187\n",
       "2019    1.522928\n",
       "2020   -1.577762\n",
       "Name: USA, dtype: object"
      ]
     },
     "execution_count": 106,
     "metadata": {},
     "output_type": "execute_result"
    }
   ],
   "source": [
    "k"
   ]
  },
  {
   "cell_type": "code",
   "execution_count": null,
   "metadata": {},
   "outputs": [],
   "source": []
  }
 ],
 "metadata": {
  "kernelspec": {
   "display_name": "Python 3",
   "language": "python",
   "name": "python3"
  },
  "language_info": {
   "codemirror_mode": {
    "name": "ipython",
    "version": 3
   },
   "file_extension": ".py",
   "mimetype": "text/x-python",
   "name": "python",
   "nbconvert_exporter": "python",
   "pygments_lexer": "ipython3",
   "version": "3.7.6"
  }
 },
 "nbformat": 4,
 "nbformat_minor": 4
}
