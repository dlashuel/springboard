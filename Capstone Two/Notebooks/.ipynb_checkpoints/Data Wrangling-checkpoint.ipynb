{
 "cells": [
  {
   "cell_type": "markdown",
   "metadata": {},
   "source": [
    "## 1.1 Content<a id='1.3_Load_Data'></a>"
   ]
  },
  {
   "cell_type": "code",
   "execution_count": null,
   "metadata": {},
   "outputs": [],
   "source": []
  },
  {
   "cell_type": "markdown",
   "metadata": {},
   "source": [
    "## 1.2 Introduction<a id='1.3_Load_Data'></a>"
   ]
  },
  {
   "cell_type": "markdown",
   "metadata": {},
   "source": [
    "The S&P 500 companies data will be used to predict the direction of the Apple stock. The data will be accessed through the polygon API. It consists of the stock price for all the S&P 500 companies for the year of 2020. Only companies with highest correlation, above 90 %, will be used to predict the stock price for Apple."
   ]
  },
  {
   "cell_type": "markdown",
   "metadata": {},
   "source": [
    "## 1.3 Import<a id='1.3_Load_Data'></a>"
   ]
  },
  {
   "cell_type": "code",
   "execution_count": 95,
   "metadata": {},
   "outputs": [],
   "source": [
    "import pandas as pd \n",
    "import matplotlib.pyplot as plt\n",
    "import seaborn as sns\n",
    "import datetime\n",
    "from polygon import RESTClient"
   ]
  },
  {
   "cell_type": "markdown",
   "metadata": {},
   "source": [
    "## 1.4 Load Data<a id='1.3_Load_Data'></a>"
   ]
  },
  {
   "cell_type": "markdown",
   "metadata": {},
   "source": [
    "#### 2.3.1 S & P 500 Tickers <a id='1.3_Load_Data'></a>"
   ]
  },
  {
   "cell_type": "code",
   "execution_count": 39,
   "metadata": {},
   "outputs": [],
   "source": [
    "S_P_Name_Symbol = pd.read_csv('../data/S_P_Name_Symbol.csv')"
   ]
  },
  {
   "cell_type": "code",
   "execution_count": 50,
   "metadata": {
    "scrolled": true
   },
   "outputs": [
    {
     "data": {
      "text/html": [
       "<div>\n",
       "<style scoped>\n",
       "    .dataframe tbody tr th:only-of-type {\n",
       "        vertical-align: middle;\n",
       "    }\n",
       "\n",
       "    .dataframe tbody tr th {\n",
       "        vertical-align: top;\n",
       "    }\n",
       "\n",
       "    .dataframe thead th {\n",
       "        text-align: right;\n",
       "    }\n",
       "</style>\n",
       "<table border=\"1\" class=\"dataframe\">\n",
       "  <thead>\n",
       "    <tr style=\"text-align: right;\">\n",
       "      <th></th>\n",
       "      <th>Company</th>\n",
       "      <th>Symbol</th>\n",
       "    </tr>\n",
       "  </thead>\n",
       "  <tbody>\n",
       "    <tr>\n",
       "      <th>0</th>\n",
       "      <td>Apple Inc.</td>\n",
       "      <td>AAPL</td>\n",
       "    </tr>\n",
       "    <tr>\n",
       "      <th>1</th>\n",
       "      <td>Microsoft Corporation</td>\n",
       "      <td>MSFT</td>\n",
       "    </tr>\n",
       "    <tr>\n",
       "      <th>2</th>\n",
       "      <td>Amazon.com Inc.</td>\n",
       "      <td>AMZN</td>\n",
       "    </tr>\n",
       "  </tbody>\n",
       "</table>\n",
       "</div>"
      ],
      "text/plain": [
       "                 Company Symbol\n",
       "0             Apple Inc.   AAPL\n",
       "1  Microsoft Corporation   MSFT\n",
       "2        Amazon.com Inc.   AMZN"
      ]
     },
     "execution_count": 50,
     "metadata": {},
     "output_type": "execute_result"
    }
   ],
   "source": [
    "S_P_Name_Symbol.head(3)"
   ]
  },
  {
   "cell_type": "markdown",
   "metadata": {},
   "source": [
    "#### 2.3.2 S & P 500 stocks price for the Year of 2020 <a id='1.3_Load_Data'></a>"
   ]
  },
  {
   "cell_type": "markdown",
   "metadata": {},
   "source": [
    "Access the polygon API to get the data to get the stock price for each stock."
   ]
  },
  {
   "cell_type": "code",
   "execution_count": null,
   "metadata": {},
   "outputs": [],
   "source": [
    "def ts_to_datetime(ts) -> str:\n",
    "    return datetime.datetime.fromtimestamp(ts / 1000.0).strftime('%Y-%m-%d')\n",
    "\n",
    "def stock(from_, to, ticker):\n",
    "    key = \"t64eMs2lm6Rf0_14lDjCGzkBh8N717or\"\n",
    "    with RESTClient(key) as client:\n",
    "        resp = client.stocks_equities_aggregates(ticker, 1, \"day\", from_, to, unadjusted=False)\n",
    "        name= ticker + '_Highest price'\n",
    "        d = {name:[]}   \n",
    "        for result in resp.results: \n",
    "            d[name].append(result[\"h\"])\n",
    "        df = pd.DataFrame(data=d)\n",
    "        return df"
   ]
  },
  {
   "cell_type": "markdown",
   "metadata": {},
   "source": [
    "Get the date for the stocks price."
   ]
  },
  {
   "cell_type": "code",
   "execution_count": 46,
   "metadata": {},
   "outputs": [],
   "source": [
    "# Get the date for stocks price\n",
    "def stock_date(from_, to):\n",
    "    key = \"t64eMs2lm6Rf0_14lDjCGzkBh8N717or\"\n",
    "    with RESTClient(key) as client:\n",
    "        resp = client.stocks_equities_aggregates('AAPL', 1, \"day\", from_, to, unadjusted=False)    \n",
    "    date =[]\n",
    "    for result in resp.results:\n",
    "        dt = ts_to_datetime(result[\"t\"])\n",
    "        date.append(dt)\n",
    "    return date"
   ]
  },
  {
   "cell_type": "markdown",
   "metadata": {},
   "source": [
    "Get the price for all the stocks."
   ]
  },
  {
   "cell_type": "code",
   "execution_count": 47,
   "metadata": {},
   "outputs": [],
   "source": [
    "def stocks_data(from_, to, tickers):\n",
    "    d_frames = []\n",
    "    for ticker in tickers:\n",
    "        df = stock(from_ ,to ,ticker)\n",
    "        d_frames.append(df)\n",
    "    combined_df = pd.concat(d_frames, axis=1)\n",
    "    date = stock_date(from_, to)\n",
    "    combined_df.insert(0, 'Date', date)\n",
    "    return combined_df"
   ]
  },
  {
   "cell_type": "markdown",
   "metadata": {},
   "source": [
    "The price for S&P 500 stock in the year of 2020"
   ]
  },
  {
   "cell_type": "code",
   "execution_count": 48,
   "metadata": {
    "scrolled": true
   },
   "outputs": [],
   "source": [
    "tickers = S_P_Name_Symbol['Symbol'].values[0:500]\n",
    "stocks_data_daily = stocks_data(\"2020-01-01\", \"2020-12-31\",tickers)"
   ]
  },
  {
   "cell_type": "markdown",
   "metadata": {},
   "source": [
    "A summary of the data "
   ]
  },
  {
   "cell_type": "code",
   "execution_count": 59,
   "metadata": {
    "scrolled": true
   },
   "outputs": [
    {
     "data": {
      "text/html": [
       "<div>\n",
       "<style scoped>\n",
       "    .dataframe tbody tr th:only-of-type {\n",
       "        vertical-align: middle;\n",
       "    }\n",
       "\n",
       "    .dataframe tbody tr th {\n",
       "        vertical-align: top;\n",
       "    }\n",
       "\n",
       "    .dataframe thead th {\n",
       "        text-align: right;\n",
       "    }\n",
       "</style>\n",
       "<table border=\"1\" class=\"dataframe\">\n",
       "  <thead>\n",
       "    <tr style=\"text-align: right;\">\n",
       "      <th></th>\n",
       "      <th>Date</th>\n",
       "      <th>AAPL_Highest price</th>\n",
       "      <th>MSFT_Highest price</th>\n",
       "      <th>AMZN_Highest price</th>\n",
       "      <th>GOOGL_Highest price</th>\n",
       "      <th>FB_Highest price</th>\n",
       "      <th>GOOG_Highest price</th>\n",
       "      <th>TSLA_Highest price</th>\n",
       "      <th>NVDA_Highest price</th>\n",
       "      <th>BRK.B_Highest price</th>\n",
       "      <th>...</th>\n",
       "      <th>DISCK_Highest price</th>\n",
       "      <th>NLSN_Highest price</th>\n",
       "      <th>VNO_Highest price</th>\n",
       "      <th>HBI_Highest price</th>\n",
       "      <th>LEG_Highest price</th>\n",
       "      <th>IPGP_Highest price</th>\n",
       "      <th>RL_Highest price</th>\n",
       "      <th>FOX_Highest price</th>\n",
       "      <th>GPS_Highest price</th>\n",
       "      <th>DISCA_Highest price</th>\n",
       "    </tr>\n",
       "  </thead>\n",
       "  <tbody>\n",
       "    <tr>\n",
       "      <th>0</th>\n",
       "      <td>2020-01-01</td>\n",
       "      <td>75.150</td>\n",
       "      <td>160.730</td>\n",
       "      <td>1898.0100</td>\n",
       "      <td>1368.68</td>\n",
       "      <td>209.79</td>\n",
       "      <td>1368.14</td>\n",
       "      <td>86.1391</td>\n",
       "      <td>59.9775</td>\n",
       "      <td>228.39</td>\n",
       "      <td>...</td>\n",
       "      <td>30.64</td>\n",
       "      <td>20.4500</td>\n",
       "      <td>66.90</td>\n",
       "      <td>14.8600</td>\n",
       "      <td>51.297</td>\n",
       "      <td>147.605</td>\n",
       "      <td>118.9400</td>\n",
       "      <td>36.75</td>\n",
       "      <td>17.8</td>\n",
       "      <td>32.84</td>\n",
       "    </tr>\n",
       "    <tr>\n",
       "      <th>1</th>\n",
       "      <td>2020-01-02</td>\n",
       "      <td>75.145</td>\n",
       "      <td>159.945</td>\n",
       "      <td>1886.1965</td>\n",
       "      <td>1373.75</td>\n",
       "      <td>210.40</td>\n",
       "      <td>1372.50</td>\n",
       "      <td>90.8000</td>\n",
       "      <td>59.4575</td>\n",
       "      <td>227.43</td>\n",
       "      <td>...</td>\n",
       "      <td>30.22</td>\n",
       "      <td>20.1457</td>\n",
       "      <td>66.09</td>\n",
       "      <td>14.4999</td>\n",
       "      <td>50.130</td>\n",
       "      <td>144.960</td>\n",
       "      <td>118.4061</td>\n",
       "      <td>36.35</td>\n",
       "      <td>17.5</td>\n",
       "      <td>32.23</td>\n",
       "    </tr>\n",
       "  </tbody>\n",
       "</table>\n",
       "<p>2 rows × 501 columns</p>\n",
       "</div>"
      ],
      "text/plain": [
       "         Date  AAPL_Highest price  MSFT_Highest price  AMZN_Highest price  \\\n",
       "0  2020-01-01              75.150             160.730           1898.0100   \n",
       "1  2020-01-02              75.145             159.945           1886.1965   \n",
       "\n",
       "   GOOGL_Highest price  FB_Highest price  GOOG_Highest price  \\\n",
       "0              1368.68            209.79             1368.14   \n",
       "1              1373.75            210.40             1372.50   \n",
       "\n",
       "   TSLA_Highest price  NVDA_Highest price  BRK.B_Highest price  ...  \\\n",
       "0             86.1391             59.9775               228.39  ...   \n",
       "1             90.8000             59.4575               227.43  ...   \n",
       "\n",
       "   DISCK_Highest price  NLSN_Highest price  VNO_Highest price  \\\n",
       "0                30.64             20.4500              66.90   \n",
       "1                30.22             20.1457              66.09   \n",
       "\n",
       "   HBI_Highest price  LEG_Highest price  IPGP_Highest price  RL_Highest price  \\\n",
       "0            14.8600             51.297             147.605          118.9400   \n",
       "1            14.4999             50.130             144.960          118.4061   \n",
       "\n",
       "   FOX_Highest price  GPS_Highest price  DISCA_Highest price  \n",
       "0              36.75               17.8                32.84  \n",
       "1              36.35               17.5                32.23  \n",
       "\n",
       "[2 rows x 501 columns]"
      ]
     },
     "execution_count": 59,
     "metadata": {},
     "output_type": "execute_result"
    }
   ],
   "source": [
    "stocks_data_daily.head(2)"
   ]
  },
  {
   "cell_type": "code",
   "execution_count": 60,
   "metadata": {
    "scrolled": false
   },
   "outputs": [
    {
     "name": "stdout",
     "output_type": "stream",
     "text": [
      "<class 'pandas.core.frame.DataFrame'>\n",
      "RangeIndex: 253 entries, 0 to 252\n",
      "Columns: 501 entries, Date to DISCA_Highest price\n",
      "dtypes: float64(500), object(1)\n",
      "memory usage: 990.4+ KB\n"
     ]
    }
   ],
   "source": [
    "stocks_data_daily.info()"
   ]
  },
  {
   "cell_type": "markdown",
   "metadata": {},
   "source": [
    "Find stocks with missing values "
   ]
  },
  {
   "cell_type": "code",
   "execution_count": 70,
   "metadata": {
    "scrolled": true
   },
   "outputs": [
    {
     "data": {
      "text/plain": [
       "Date                   0\n",
       "AAPL_Highest price     0\n",
       "MSFT_Highest price     0\n",
       "AMZN_Highest price     0\n",
       "GOOGL_Highest price    0\n",
       "                      ..\n",
       "IPGP_Highest price     0\n",
       "RL_Highest price       0\n",
       "FOX_Highest price      0\n",
       "GPS_Highest price      0\n",
       "DISCA_Highest price    0\n",
       "Length: 501, dtype: int64"
      ]
     },
     "execution_count": 70,
     "metadata": {},
     "output_type": "execute_result"
    }
   ],
   "source": [
    "stocks_data_daily.isnull().sum()"
   ]
  },
  {
   "cell_type": "markdown",
   "metadata": {},
   "source": [
    "**Stocks with missing values** "
   ]
  },
  {
   "cell_type": "code",
   "execution_count": 88,
   "metadata": {
    "scrolled": true
   },
   "outputs": [
    {
     "name": "stdout",
     "output_type": "stream",
     "text": [
      "RTX_Highest price, 64, 25.3% of the data is missing\n",
      "CARR_Highest price, 64, 25.3% of the data is missing\n",
      "BIIB_Highest price, 1, 0.4% of the data is missing\n",
      "TT_Highest price, 40, 15.81% of the data is missing\n",
      "OTIS_Highest price, 64, 25.3% of the data is missing\n",
      "VTRS_Highest price, 222, 87.75% of the data is missing\n",
      "LUMN_Highest price, 180, 71.15% of the data is missing\n",
      "HWM_Highest price, 62, 24.51% of the data is missing\n"
     ]
    }
   ],
   "source": [
    "stocks_w_null_val = stocks_data_daily.isnull().sum()\n",
    "stocks_missing_val =[]\n",
    "for i in range(len(stocks_w_null_val)):\n",
    "    if stocks_w_null_val[i] != 0:\n",
    "        per_missing_val = round(stocks_w_null_val[i]/253 * 100,2)\n",
    "        print(f'{stocks_w_null_val.index[i]}, {stocks_w_null_val[i]}, {per_missing_val}% of the data is missing')\n",
    "        if per_missing_val > 10:\n",
    "            stocks_missing_val.append(stocks_w_null_val.index[i])"
   ]
  },
  {
   "cell_type": "markdown",
   "metadata": {},
   "source": [
    "**Dropping stocking with missing values** "
   ]
  },
  {
   "cell_type": "code",
   "execution_count": 89,
   "metadata": {
    "scrolled": true
   },
   "outputs": [
    {
     "data": {
      "text/plain": [
       "['RTX_Highest price',\n",
       " 'CARR_Highest price',\n",
       " 'TT_Highest price',\n",
       " 'OTIS_Highest price',\n",
       " 'VTRS_Highest price',\n",
       " 'LUMN_Highest price',\n",
       " 'HWM_Highest price']"
      ]
     },
     "execution_count": 89,
     "metadata": {},
     "output_type": "execute_result"
    }
   ],
   "source": [
    "stocks_missing_val"
   ]
  },
  {
   "cell_type": "code",
   "execution_count": 91,
   "metadata": {},
   "outputs": [],
   "source": [
    "SNP_500_2020 =  stocks_data_daily.drop(stocks_missing_val, axis=1)"
   ]
  },
  {
   "cell_type": "code",
   "execution_count": 93,
   "metadata": {},
   "outputs": [
    {
     "data": {
      "text/plain": [
       "((253, 494), (253, 501))"
      ]
     },
     "execution_count": 93,
     "metadata": {},
     "output_type": "execute_result"
    }
   ],
   "source": [
    "SNP_500_2020.shape, stocks_data_daily.shape"
   ]
  },
  {
   "cell_type": "markdown",
   "metadata": {},
   "source": [
    "**Relationship between Apple and the remaining stocks**"
   ]
  },
  {
   "cell_type": "code",
   "execution_count": 194,
   "metadata": {},
   "outputs": [
    {
     "data": {
      "text/html": [
       "<div>\n",
       "<style scoped>\n",
       "    .dataframe tbody tr th:only-of-type {\n",
       "        vertical-align: middle;\n",
       "    }\n",
       "\n",
       "    .dataframe tbody tr th {\n",
       "        vertical-align: top;\n",
       "    }\n",
       "\n",
       "    .dataframe thead th {\n",
       "        text-align: right;\n",
       "    }\n",
       "</style>\n",
       "<table border=\"1\" class=\"dataframe\">\n",
       "  <thead>\n",
       "    <tr style=\"text-align: right;\">\n",
       "      <th></th>\n",
       "      <th>MSFT_Highest price</th>\n",
       "      <th>AMZN_Highest price</th>\n",
       "      <th>GOOGL_Highest price</th>\n",
       "      <th>FB_Highest price</th>\n",
       "      <th>GOOG_Highest price</th>\n",
       "      <th>TSLA_Highest price</th>\n",
       "      <th>NVDA_Highest price</th>\n",
       "      <th>BRK.B_Highest price</th>\n",
       "      <th>JPM_Highest price</th>\n",
       "      <th>JNJ_Highest price</th>\n",
       "      <th>...</th>\n",
       "      <th>DISCK_Highest price</th>\n",
       "      <th>NLSN_Highest price</th>\n",
       "      <th>VNO_Highest price</th>\n",
       "      <th>HBI_Highest price</th>\n",
       "      <th>LEG_Highest price</th>\n",
       "      <th>IPGP_Highest price</th>\n",
       "      <th>RL_Highest price</th>\n",
       "      <th>FOX_Highest price</th>\n",
       "      <th>GPS_Highest price</th>\n",
       "      <th>DISCA_Highest price</th>\n",
       "    </tr>\n",
       "  </thead>\n",
       "  <tbody>\n",
       "    <tr>\n",
       "      <th>AAPL_Highest price</th>\n",
       "      <td>0.930609</td>\n",
       "      <td>0.917592</td>\n",
       "      <td>0.864134</td>\n",
       "      <td>0.949139</td>\n",
       "      <td>0.86761</td>\n",
       "      <td>0.938808</td>\n",
       "      <td>0.954867</td>\n",
       "      <td>0.522347</td>\n",
       "      <td>0.056026</td>\n",
       "      <td>0.452103</td>\n",
       "      <td>...</td>\n",
       "      <td>-0.091416</td>\n",
       "      <td>0.007093</td>\n",
       "      <td>-0.438986</td>\n",
       "      <td>0.732171</td>\n",
       "      <td>0.486928</td>\n",
       "      <td>0.854518</td>\n",
       "      <td>-0.186237</td>\n",
       "      <td>-0.136912</td>\n",
       "      <td>0.729831</td>\n",
       "      <td>-0.011458</td>\n",
       "    </tr>\n",
       "  </tbody>\n",
       "</table>\n",
       "<p>1 rows × 492 columns</p>\n",
       "</div>"
      ],
      "text/plain": [
       "                    MSFT_Highest price  AMZN_Highest price  \\\n",
       "AAPL_Highest price            0.930609            0.917592   \n",
       "\n",
       "                    GOOGL_Highest price  FB_Highest price  GOOG_Highest price  \\\n",
       "AAPL_Highest price             0.864134          0.949139             0.86761   \n",
       "\n",
       "                    TSLA_Highest price  NVDA_Highest price  \\\n",
       "AAPL_Highest price            0.938808            0.954867   \n",
       "\n",
       "                    BRK.B_Highest price  JPM_Highest price  JNJ_Highest price  \\\n",
       "AAPL_Highest price             0.522347           0.056026           0.452103   \n",
       "\n",
       "                    ...  DISCK_Highest price  NLSN_Highest price  \\\n",
       "AAPL_Highest price  ...            -0.091416            0.007093   \n",
       "\n",
       "                    VNO_Highest price  HBI_Highest price  LEG_Highest price  \\\n",
       "AAPL_Highest price          -0.438986           0.732171           0.486928   \n",
       "\n",
       "                    IPGP_Highest price  RL_Highest price  FOX_Highest price  \\\n",
       "AAPL_Highest price            0.854518         -0.186237          -0.136912   \n",
       "\n",
       "                    GPS_Highest price  DISCA_Highest price  \n",
       "AAPL_Highest price           0.729831            -0.011458  \n",
       "\n",
       "[1 rows x 492 columns]"
      ]
     },
     "execution_count": 194,
     "metadata": {},
     "output_type": "execute_result"
    }
   ],
   "source": [
    "SNP_500_2020.corr().iloc[0:1,1:]"
   ]
  },
  {
   "cell_type": "code",
   "execution_count": 111,
   "metadata": {
    "scrolled": false
   },
   "outputs": [
    {
     "data": {
      "text/html": [
       "<div>\n",
       "<style scoped>\n",
       "    .dataframe tbody tr th:only-of-type {\n",
       "        vertical-align: middle;\n",
       "    }\n",
       "\n",
       "    .dataframe tbody tr th {\n",
       "        vertical-align: top;\n",
       "    }\n",
       "\n",
       "    .dataframe thead th {\n",
       "        text-align: right;\n",
       "    }\n",
       "</style>\n",
       "<table border=\"1\" class=\"dataframe\">\n",
       "  <thead>\n",
       "    <tr style=\"text-align: right;\">\n",
       "      <th></th>\n",
       "      <th>AAPL_Highest price</th>\n",
       "    </tr>\n",
       "  </thead>\n",
       "  <tbody>\n",
       "    <tr>\n",
       "      <th>MSFT_Highest price</th>\n",
       "      <td>0.930609</td>\n",
       "    </tr>\n",
       "    <tr>\n",
       "      <th>AMZN_Highest price</th>\n",
       "      <td>0.917592</td>\n",
       "    </tr>\n",
       "    <tr>\n",
       "      <th>GOOGL_Highest price</th>\n",
       "      <td>0.864134</td>\n",
       "    </tr>\n",
       "    <tr>\n",
       "      <th>FB_Highest price</th>\n",
       "      <td>0.949139</td>\n",
       "    </tr>\n",
       "    <tr>\n",
       "      <th>GOOG_Highest price</th>\n",
       "      <td>0.867610</td>\n",
       "    </tr>\n",
       "    <tr>\n",
       "      <th>...</th>\n",
       "      <td>...</td>\n",
       "    </tr>\n",
       "    <tr>\n",
       "      <th>IPGP_Highest price</th>\n",
       "      <td>0.854518</td>\n",
       "    </tr>\n",
       "    <tr>\n",
       "      <th>RL_Highest price</th>\n",
       "      <td>-0.186237</td>\n",
       "    </tr>\n",
       "    <tr>\n",
       "      <th>FOX_Highest price</th>\n",
       "      <td>-0.136912</td>\n",
       "    </tr>\n",
       "    <tr>\n",
       "      <th>GPS_Highest price</th>\n",
       "      <td>0.729831</td>\n",
       "    </tr>\n",
       "    <tr>\n",
       "      <th>DISCA_Highest price</th>\n",
       "      <td>-0.011458</td>\n",
       "    </tr>\n",
       "  </tbody>\n",
       "</table>\n",
       "<p>492 rows × 1 columns</p>\n",
       "</div>"
      ],
      "text/plain": [
       "                     AAPL_Highest price\n",
       "MSFT_Highest price             0.930609\n",
       "AMZN_Highest price             0.917592\n",
       "GOOGL_Highest price            0.864134\n",
       "FB_Highest price               0.949139\n",
       "GOOG_Highest price             0.867610\n",
       "...                                 ...\n",
       "IPGP_Highest price             0.854518\n",
       "RL_Highest price              -0.186237\n",
       "FOX_Highest price             -0.136912\n",
       "GPS_Highest price              0.729831\n",
       "DISCA_Highest price           -0.011458\n",
       "\n",
       "[492 rows x 1 columns]"
      ]
     },
     "execution_count": 111,
     "metadata": {},
     "output_type": "execute_result"
    }
   ],
   "source": [
    "# Relationship between Apple stock and the S&P 500 stocks\n",
    "SNP_500_2020.corr().iloc[0:1,1:].T"
   ]
  },
  {
   "cell_type": "code",
   "execution_count": 121,
   "metadata": {},
   "outputs": [],
   "source": [
    "SNP_500_2020_corr = SNP_500_2020.corr().iloc[0:1,1:].T"
   ]
  },
  {
   "cell_type": "markdown",
   "metadata": {},
   "source": [
    "**Stocks with the highest correlation with the Apple stock(.85 &-.85)**"
   ]
  },
  {
   "cell_type": "code",
   "execution_count": 171,
   "metadata": {
    "scrolled": false
   },
   "outputs": [
    {
     "data": {
      "text/html": [
       "<div>\n",
       "<style scoped>\n",
       "    .dataframe tbody tr th:only-of-type {\n",
       "        vertical-align: middle;\n",
       "    }\n",
       "\n",
       "    .dataframe tbody tr th {\n",
       "        vertical-align: top;\n",
       "    }\n",
       "\n",
       "    .dataframe thead th {\n",
       "        text-align: right;\n",
       "    }\n",
       "</style>\n",
       "<table border=\"1\" class=\"dataframe\">\n",
       "  <thead>\n",
       "    <tr style=\"text-align: right;\">\n",
       "      <th></th>\n",
       "      <th>AAPL_Highest price</th>\n",
       "    </tr>\n",
       "  </thead>\n",
       "  <tbody>\n",
       "    <tr>\n",
       "      <th>MSFT_Highest price</th>\n",
       "      <td>0.930609</td>\n",
       "    </tr>\n",
       "    <tr>\n",
       "      <th>AMZN_Highest price</th>\n",
       "      <td>0.917592</td>\n",
       "    </tr>\n",
       "    <tr>\n",
       "      <th>FB_Highest price</th>\n",
       "      <td>0.949139</td>\n",
       "    </tr>\n",
       "    <tr>\n",
       "      <th>TSLA_Highest price</th>\n",
       "      <td>0.938808</td>\n",
       "    </tr>\n",
       "    <tr>\n",
       "      <th>NVDA_Highest price</th>\n",
       "      <td>0.954867</td>\n",
       "    </tr>\n",
       "    <tr>\n",
       "      <th>...</th>\n",
       "      <td>...</td>\n",
       "    </tr>\n",
       "    <tr>\n",
       "      <th>MAS_Highest price</th>\n",
       "      <td>0.903538</td>\n",
       "    </tr>\n",
       "    <tr>\n",
       "      <th>FBHS_Highest price</th>\n",
       "      <td>0.910524</td>\n",
       "    </tr>\n",
       "    <tr>\n",
       "      <th>CHRW_Highest price</th>\n",
       "      <td>0.907034</td>\n",
       "    </tr>\n",
       "    <tr>\n",
       "      <th>PENN_Highest price</th>\n",
       "      <td>0.928784</td>\n",
       "    </tr>\n",
       "    <tr>\n",
       "      <th>ROL_Highest price</th>\n",
       "      <td>0.950434</td>\n",
       "    </tr>\n",
       "  </tbody>\n",
       "</table>\n",
       "<p>72 rows × 1 columns</p>\n",
       "</div>"
      ],
      "text/plain": [
       "                    AAPL_Highest price\n",
       "MSFT_Highest price            0.930609\n",
       "AMZN_Highest price            0.917592\n",
       "FB_Highest price              0.949139\n",
       "TSLA_Highest price            0.938808\n",
       "NVDA_Highest price            0.954867\n",
       "...                                ...\n",
       "MAS_Highest price             0.903538\n",
       "FBHS_Highest price            0.910524\n",
       "CHRW_Highest price            0.907034\n",
       "PENN_Highest price            0.928784\n",
       "ROL_Highest price             0.950434\n",
       "\n",
       "[72 rows x 1 columns]"
      ]
     },
     "execution_count": 171,
     "metadata": {},
     "output_type": "execute_result"
    }
   ],
   "source": [
    "SNP_500_2020_corr[SNP_500_2020_corr['AAPL_Highest price'].apply(lambda x: (x >= .9) | (x <= -.9))]"
   ]
  },
  {
   "cell_type": "code",
   "execution_count": 172,
   "metadata": {},
   "outputs": [],
   "source": [
    "# create a filter with .9 correlation\n",
    "corr_rate = SNP_500_2020_corr['AAPL_Highest price'].apply(lambda x: (x >= .9) | (x <= -.9))\n",
    "SNP_500_2020_H_corr = SNP_500_2020_corr[corr_rate]"
   ]
  },
  {
   "cell_type": "code",
   "execution_count": 192,
   "metadata": {
    "scrolled": false
   },
   "outputs": [
    {
     "data": {
      "text/html": [
       "<div>\n",
       "<style scoped>\n",
       "    .dataframe tbody tr th:only-of-type {\n",
       "        vertical-align: middle;\n",
       "    }\n",
       "\n",
       "    .dataframe tbody tr th {\n",
       "        vertical-align: top;\n",
       "    }\n",
       "\n",
       "    .dataframe thead th {\n",
       "        text-align: right;\n",
       "    }\n",
       "</style>\n",
       "<table border=\"1\" class=\"dataframe\">\n",
       "  <thead>\n",
       "    <tr style=\"text-align: right;\">\n",
       "      <th></th>\n",
       "      <th>AAPL_Highest price</th>\n",
       "    </tr>\n",
       "  </thead>\n",
       "  <tbody>\n",
       "    <tr>\n",
       "      <th>MNST_Highest price</th>\n",
       "      <td>0.970631</td>\n",
       "    </tr>\n",
       "    <tr>\n",
       "      <th>ADBE_Highest price</th>\n",
       "      <td>0.963809</td>\n",
       "    </tr>\n",
       "    <tr>\n",
       "      <th>CRL_Highest price</th>\n",
       "      <td>0.958698</td>\n",
       "    </tr>\n",
       "    <tr>\n",
       "      <th>CMG_Highest price</th>\n",
       "      <td>0.958133</td>\n",
       "    </tr>\n",
       "    <tr>\n",
       "      <th>POOL_Highest price</th>\n",
       "      <td>0.958130</td>\n",
       "    </tr>\n",
       "    <tr>\n",
       "      <th>...</th>\n",
       "      <td>...</td>\n",
       "    </tr>\n",
       "    <tr>\n",
       "      <th>MAS_Highest price</th>\n",
       "      <td>0.903538</td>\n",
       "    </tr>\n",
       "    <tr>\n",
       "      <th>PG_Highest price</th>\n",
       "      <td>0.903349</td>\n",
       "    </tr>\n",
       "    <tr>\n",
       "      <th>BBY_Highest price</th>\n",
       "      <td>0.902979</td>\n",
       "    </tr>\n",
       "    <tr>\n",
       "      <th>DE_Highest price</th>\n",
       "      <td>0.902597</td>\n",
       "    </tr>\n",
       "    <tr>\n",
       "      <th>PCAR_Highest price</th>\n",
       "      <td>0.902568</td>\n",
       "    </tr>\n",
       "  </tbody>\n",
       "</table>\n",
       "<p>72 rows × 1 columns</p>\n",
       "</div>"
      ],
      "text/plain": [
       "                    AAPL_Highest price\n",
       "MNST_Highest price            0.970631\n",
       "ADBE_Highest price            0.963809\n",
       "CRL_Highest price             0.958698\n",
       "CMG_Highest price             0.958133\n",
       "POOL_Highest price            0.958130\n",
       "...                                ...\n",
       "MAS_Highest price             0.903538\n",
       "PG_Highest price              0.903349\n",
       "BBY_Highest price             0.902979\n",
       "DE_Highest price              0.902597\n",
       "PCAR_Highest price            0.902568\n",
       "\n",
       "[72 rows x 1 columns]"
      ]
     },
     "execution_count": 192,
     "metadata": {},
     "output_type": "execute_result"
    }
   ],
   "source": [
    "# Display the stocks with the .9 correlation\n",
    "SNP_500_2020_H_corr.sort_values(by='AAPL_Highest price', ascending=False)"
   ]
  },
  {
   "cell_type": "markdown",
   "metadata": {},
   "source": [
    "**Save the stocks with the highest correlation to apple to a csv file**"
   ]
  },
  {
   "cell_type": "code",
   "execution_count": 250,
   "metadata": {},
   "outputs": [],
   "source": [
    "apple_cor90_stocks = ['Date','AAPL_Highest price']+SNP_500_2020_H_corr.index.values.tolist()\n",
    "SNP_500_2020_cor90 = SNP_500_2020.loc[:,apple_cor90_stocks]"
   ]
  },
  {
   "cell_type": "code",
   "execution_count": 251,
   "metadata": {
    "scrolled": true
   },
   "outputs": [
    {
     "data": {
      "text/html": [
       "<div>\n",
       "<style scoped>\n",
       "    .dataframe tbody tr th:only-of-type {\n",
       "        vertical-align: middle;\n",
       "    }\n",
       "\n",
       "    .dataframe tbody tr th {\n",
       "        vertical-align: top;\n",
       "    }\n",
       "\n",
       "    .dataframe thead th {\n",
       "        text-align: right;\n",
       "    }\n",
       "</style>\n",
       "<table border=\"1\" class=\"dataframe\">\n",
       "  <thead>\n",
       "    <tr style=\"text-align: right;\">\n",
       "      <th></th>\n",
       "      <th>Date</th>\n",
       "      <th>AAPL_Highest price</th>\n",
       "      <th>MSFT_Highest price</th>\n",
       "      <th>AMZN_Highest price</th>\n",
       "      <th>FB_Highest price</th>\n",
       "      <th>TSLA_Highest price</th>\n",
       "      <th>NVDA_Highest price</th>\n",
       "      <th>PG_Highest price</th>\n",
       "      <th>PYPL_Highest price</th>\n",
       "      <th>ADBE_Highest price</th>\n",
       "      <th>...</th>\n",
       "      <th>POOL_Highest price</th>\n",
       "      <th>GWW_Highest price</th>\n",
       "      <th>TTWO_Highest price</th>\n",
       "      <th>ABMD_Highest price</th>\n",
       "      <th>JBHT_Highest price</th>\n",
       "      <th>MAS_Highest price</th>\n",
       "      <th>FBHS_Highest price</th>\n",
       "      <th>CHRW_Highest price</th>\n",
       "      <th>PENN_Highest price</th>\n",
       "      <th>ROL_Highest price</th>\n",
       "    </tr>\n",
       "  </thead>\n",
       "  <tbody>\n",
       "    <tr>\n",
       "      <th>0</th>\n",
       "      <td>2020-01-01</td>\n",
       "      <td>75.150</td>\n",
       "      <td>160.730</td>\n",
       "      <td>1898.0100</td>\n",
       "      <td>209.79</td>\n",
       "      <td>86.1391</td>\n",
       "      <td>59.9775</td>\n",
       "      <td>124.73</td>\n",
       "      <td>111.21</td>\n",
       "      <td>334.48</td>\n",
       "      <td>...</td>\n",
       "      <td>213.88</td>\n",
       "      <td>344.71</td>\n",
       "      <td>123.9800</td>\n",
       "      <td>173.8600</td>\n",
       "      <td>117.9900</td>\n",
       "      <td>48.410</td>\n",
       "      <td>65.81</td>\n",
       "      <td>78.50</td>\n",
       "      <td>26.150</td>\n",
       "      <td>22.3933</td>\n",
       "    </tr>\n",
       "    <tr>\n",
       "      <th>1</th>\n",
       "      <td>2020-01-02</td>\n",
       "      <td>75.145</td>\n",
       "      <td>159.945</td>\n",
       "      <td>1886.1965</td>\n",
       "      <td>210.40</td>\n",
       "      <td>90.8000</td>\n",
       "      <td>59.4575</td>\n",
       "      <td>123.53</td>\n",
       "      <td>110.42</td>\n",
       "      <td>332.98</td>\n",
       "      <td>...</td>\n",
       "      <td>215.68</td>\n",
       "      <td>342.26</td>\n",
       "      <td>122.5000</td>\n",
       "      <td>169.3174</td>\n",
       "      <td>117.2100</td>\n",
       "      <td>47.920</td>\n",
       "      <td>65.50</td>\n",
       "      <td>77.80</td>\n",
       "      <td>25.965</td>\n",
       "      <td>22.1733</td>\n",
       "    </tr>\n",
       "    <tr>\n",
       "      <th>2</th>\n",
       "      <td>2020-01-05</td>\n",
       "      <td>74.990</td>\n",
       "      <td>159.100</td>\n",
       "      <td>1903.6900</td>\n",
       "      <td>212.78</td>\n",
       "      <td>90.3120</td>\n",
       "      <td>59.3175</td>\n",
       "      <td>123.19</td>\n",
       "      <td>110.22</td>\n",
       "      <td>333.91</td>\n",
       "      <td>...</td>\n",
       "      <td>215.34</td>\n",
       "      <td>339.85</td>\n",
       "      <td>125.1264</td>\n",
       "      <td>179.4200</td>\n",
       "      <td>116.1998</td>\n",
       "      <td>47.625</td>\n",
       "      <td>65.89</td>\n",
       "      <td>77.62</td>\n",
       "      <td>26.330</td>\n",
       "      <td>22.1933</td>\n",
       "    </tr>\n",
       "  </tbody>\n",
       "</table>\n",
       "<p>3 rows × 74 columns</p>\n",
       "</div>"
      ],
      "text/plain": [
       "         Date  AAPL_Highest price  MSFT_Highest price  AMZN_Highest price  \\\n",
       "0  2020-01-01              75.150             160.730           1898.0100   \n",
       "1  2020-01-02              75.145             159.945           1886.1965   \n",
       "2  2020-01-05              74.990             159.100           1903.6900   \n",
       "\n",
       "   FB_Highest price  TSLA_Highest price  NVDA_Highest price  PG_Highest price  \\\n",
       "0            209.79             86.1391             59.9775            124.73   \n",
       "1            210.40             90.8000             59.4575            123.53   \n",
       "2            212.78             90.3120             59.3175            123.19   \n",
       "\n",
       "   PYPL_Highest price  ADBE_Highest price  ...  POOL_Highest price  \\\n",
       "0              111.21              334.48  ...              213.88   \n",
       "1              110.42              332.98  ...              215.68   \n",
       "2              110.22              333.91  ...              215.34   \n",
       "\n",
       "   GWW_Highest price  TTWO_Highest price  ABMD_Highest price  \\\n",
       "0             344.71            123.9800            173.8600   \n",
       "1             342.26            122.5000            169.3174   \n",
       "2             339.85            125.1264            179.4200   \n",
       "\n",
       "   JBHT_Highest price  MAS_Highest price  FBHS_Highest price  \\\n",
       "0            117.9900             48.410               65.81   \n",
       "1            117.2100             47.920               65.50   \n",
       "2            116.1998             47.625               65.89   \n",
       "\n",
       "   CHRW_Highest price  PENN_Highest price  ROL_Highest price  \n",
       "0               78.50              26.150            22.3933  \n",
       "1               77.80              25.965            22.1733  \n",
       "2               77.62              26.330            22.1933  \n",
       "\n",
       "[3 rows x 74 columns]"
      ]
     },
     "execution_count": 251,
     "metadata": {},
     "output_type": "execute_result"
    }
   ],
   "source": [
    "SNP_500_2020_cor90.head(3)"
   ]
  },
  {
   "cell_type": "markdown",
   "metadata": {},
   "source": [
    "**Saving the dataframe to a csv file**"
   ]
  },
  {
   "cell_type": "code",
   "execution_count": 252,
   "metadata": {},
   "outputs": [],
   "source": [
    "SNP_500_2020_cor90.to_csv('../data/SNP_500_2020_cor90.csv')"
   ]
  }
 ],
 "metadata": {
  "kernelspec": {
   "display_name": "Python 3",
   "language": "python",
   "name": "python3"
  },
  "language_info": {
   "codemirror_mode": {
    "name": "ipython",
    "version": 3
   },
   "file_extension": ".py",
   "mimetype": "text/x-python",
   "name": "python",
   "nbconvert_exporter": "python",
   "pygments_lexer": "ipython3",
   "version": "3.7.6"
  }
 },
 "nbformat": 4,
 "nbformat_minor": 4
}
